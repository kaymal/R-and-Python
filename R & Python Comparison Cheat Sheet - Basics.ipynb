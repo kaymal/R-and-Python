{
 "cells": [
  {
   "cell_type": "markdown",
   "metadata": {},
   "source": [
    "# R & Python Comparison Cheat Sheet"
   ]
  },
  {
   "cell_type": "markdown",
   "metadata": {},
   "source": [
    "Outline:\n",
    " - [Basics](#Basics)\n",
    "   * Arithmetic Operators\n",
    "   * Assignment & Variables\n",
    "   * Basic Data Types\n",
    " - [Vectors/Arrays](#Vectors/Arrays)\n",
    "   * Selecting Items/elements from a Vector\n",
    " - [Matrix](#Matrix)\n",
    "   * Selecting Elements from a Matrix\n",
    "   * Arithmetic\n",
    " - [Factors](#Factors)\n",
    " - [Data Frames](#Data-Frames)\n",
    " - [Lists](#Lists)"
   ]
  },
  {
   "cell_type": "markdown",
   "metadata": {},
   "source": [
    "To learn how to use **R** and __Python__ in _one_ Jupyter Notebook, see [R & Python in one Notebook](https://github.com/kaymal/R-and-Python/blob/master/R%20%26%20Python%20in%20One%20Notebook.ipynb)."
   ]
  },
  {
   "cell_type": "code",
   "execution_count": 3,
   "metadata": {},
   "outputs": [],
   "source": [
    "# R - Using R in Jupyter Notebook\n",
    "# Load in the R Magic\n",
    "%load_ext rpy2.ipython"
   ]
  },
  {
   "cell_type": "code",
   "execution_count": 4,
   "metadata": {},
   "outputs": [],
   "source": [
    "# Necessary to print multiple outputs from  a single cell\n",
    "from IPython.core.interactiveshell import InteractiveShell\n",
    "InteractiveShell.ast_node_interactivity = 'all'"
   ]
  },
  {
   "cell_type": "markdown",
   "metadata": {},
   "source": [
    "## Basics"
   ]
  },
  {
   "cell_type": "markdown",
   "metadata": {},
   "source": [
    "### Arithmetic Operators"
   ]
  },
  {
   "cell_type": "code",
   "execution_count": 5,
   "metadata": {},
   "outputs": [
    {
     "name": "stdout",
     "output_type": "stream",
     "text": [
      "8\n",
      "2\n",
      "125\n"
     ]
    }
   ],
   "source": [
    "# Python - Arithmetic operators\n",
    "print(5 + 3)\n",
    "print(5 % 3) # Modulo\n",
    "print(5 ** 3) # Exponentiation"
   ]
  },
  {
   "cell_type": "code",
   "execution_count": 6,
   "metadata": {},
   "outputs": [
    {
     "data": {
      "text/plain": [
       "2"
      ]
     },
     "execution_count": 6,
     "metadata": {},
     "output_type": "execute_result"
    }
   ],
   "source": [
    "# Python - Arithmetic operators\n",
    "5 % 3 # prints out the result without the .print() function in Jupyter notebook"
   ]
  },
  {
   "cell_type": "code",
   "execution_count": 7,
   "metadata": {},
   "outputs": [
    {
     "data": {
      "text/plain": [
       "[1] 8\n",
       "[1] 2\n",
       "[1] 125\n"
      ]
     },
     "metadata": {},
     "output_type": "display_data"
    }
   ],
   "source": [
    "%%R\n",
    "# R - Arithmetic operators\n",
    "print(5 + 3) # print function is not required in R!\n",
    "print(5 %% 3) # Modulo\n",
    "print(5 ^ 3) # Exponentiation"
   ]
  },
  {
   "cell_type": "code",
   "execution_count": 8,
   "metadata": {},
   "outputs": [
    {
     "data": {
      "text/plain": [
       "[1] 2\n"
      ]
     },
     "metadata": {},
     "output_type": "display_data"
    }
   ],
   "source": [
    "%%R\n",
    "# R - Modulo operator\n",
    "5 %% 3"
   ]
  },
  {
   "cell_type": "markdown",
   "metadata": {},
   "source": [
    "### Assignment & Variables"
   ]
  },
  {
   "cell_type": "code",
   "execution_count": 9,
   "metadata": {},
   "outputs": [
    {
     "name": "stdout",
     "output_type": "stream",
     "text": [
      "8 y z\n"
     ]
    }
   ],
   "source": [
    "# Python - Assignment and variables\n",
    "x = 5 + 3\n",
    "y = 'y'\n",
    "z = \"z\"\n",
    "print(x, y, z)"
   ]
  },
  {
   "cell_type": "code",
   "execution_count": 10,
   "metadata": {},
   "outputs": [
    {
     "data": {
      "text/plain": [
       "[1] 8 8\n"
      ]
     },
     "metadata": {},
     "output_type": "display_data"
    }
   ],
   "source": [
    "%%R\n",
    "# R - Assignment (with '<-') and variables\n",
    "x <- 5 + 3\n",
    "\n",
    "# R - Assignment (with '=') and variables\n",
    "y = 5 + 3\n",
    "c(x, y)"
   ]
  },
  {
   "cell_type": "markdown",
   "metadata": {},
   "source": [
    "### Basic Data Types"
   ]
  },
  {
   "cell_type": "code",
   "execution_count": 11,
   "metadata": {},
   "outputs": [
    {
     "data": {
      "text/plain": [
       "(int, float, str, bool)"
      ]
     },
     "execution_count": 11,
     "metadata": {},
     "output_type": "execute_result"
    }
   ],
   "source": [
    "# Python - Basic data types\n",
    "type(3), type(3.5), type('a'), type(True)"
   ]
  },
  {
   "cell_type": "code",
   "execution_count": 12,
   "metadata": {},
   "outputs": [
    {
     "data": {
      "text/plain": [
       "[1] \"numeric\"   \"numeric\"   \"character\" \"logical\"  \n"
      ]
     },
     "metadata": {},
     "output_type": "display_data"
    }
   ],
   "source": [
    "%%R\n",
    "# R - Basic data types\n",
    "c(class(3), class(3.5), class('a'), class(TRUE))"
   ]
  },
  {
   "cell_type": "code",
   "execution_count": 13,
   "metadata": {},
   "outputs": [
    {
     "data": {
      "text/plain": [
       "(list, dict)"
      ]
     },
     "execution_count": 13,
     "metadata": {},
     "output_type": "execute_result"
    }
   ],
   "source": [
    "# Python - list and dictionary\n",
    "type([1, 'a']), type({'a': 1, 'b':2})"
   ]
  },
  {
   "cell_type": "code",
   "execution_count": 14,
   "metadata": {},
   "outputs": [
    {
     "data": {
      "text/plain": [
       "[1] \"list\"\n"
      ]
     },
     "metadata": {},
     "output_type": "display_data"
    }
   ],
   "source": [
    "%%R\n",
    "# R - list\n",
    "class(list(1, 'a'))"
   ]
  },
  {
   "cell_type": "code",
   "execution_count": 15,
   "metadata": {},
   "outputs": [
    {
     "data": {
      "text/plain": [
       "     [,1] [,2]\n",
       "[1,]    1    3\n",
       "[2,]    2    4\n",
       "[1] \"matrix\"\n"
      ]
     },
     "metadata": {},
     "output_type": "display_data"
    }
   ],
   "source": [
    "%%R\n",
    "# R - matrix\n",
    "print(matrix(1:4, nrow=2))\n",
    "print(class(matrix(1:4, nrow=1)))"
   ]
  },
  {
   "cell_type": "markdown",
   "metadata": {},
   "source": [
    "## Vectors/Arrays\n",
    "\n",
    "Vectors are one dimensional arrays. The elements in a Vector/Array all have the same data type."
   ]
  },
  {
   "cell_type": "code",
   "execution_count": 16,
   "metadata": {},
   "outputs": [],
   "source": [
    "# import numpy for vector/matrix operations in Python\n",
    "import numpy as np"
   ]
  },
  {
   "cell_type": "markdown",
   "metadata": {},
   "source": [
    "Note: NumPy is a package in Python for scientific computing."
   ]
  },
  {
   "cell_type": "code",
   "execution_count": 17,
   "metadata": {},
   "outputs": [
    {
     "data": {
      "text/plain": [
       "array([ 2, 18, 16, 11])"
      ]
     },
     "execution_count": 17,
     "metadata": {},
     "output_type": "execute_result"
    }
   ],
   "source": [
    "# Python - Numpy arrays\n",
    "t_array = np.array([1, 9, 8, 4])\n",
    "s_array = np.array([1, 9, 8, 4 + 3])\n",
    "s_array + t_array"
   ]
  },
  {
   "cell_type": "code",
   "execution_count": 18,
   "metadata": {},
   "outputs": [
    {
     "data": {
      "text/plain": [
       "[1]  2 18 16 11\n"
      ]
     },
     "metadata": {},
     "output_type": "display_data"
    }
   ],
   "source": [
    "%%R\n",
    "# R - Vectors\n",
    "\n",
    "# Create a vector with 'combine (c)' function\n",
    "t_vector = c(1, 9, 8, 4)\n",
    "s_vector = c(1, 9, 8, 4 + 3)\n",
    "s_vector + t_vector"
   ]
  },
  {
   "cell_type": "code",
   "execution_count": 19,
   "metadata": {},
   "outputs": [
    {
     "data": {
      "text/plain": [
       "(25, 25, 6.25)"
      ]
     },
     "execution_count": 19,
     "metadata": {},
     "output_type": "execute_result"
    }
   ],
   "source": [
    "#Python - sum and mean with array\n",
    "sum(s_array), np.sum(s_array), np.mean(s_array)"
   ]
  },
  {
   "cell_type": "code",
   "execution_count": 20,
   "metadata": {},
   "outputs": [
    {
     "data": {
      "text/plain": [
       "[1] 25.00  6.25\n"
      ]
     },
     "metadata": {},
     "output_type": "display_data"
    }
   ],
   "source": [
    "%%R\n",
    "# R - sum and mean with vectors\n",
    "c(sum(s_vector), mean(s_vector))"
   ]
  },
  {
   "cell_type": "code",
   "execution_count": 21,
   "metadata": {},
   "outputs": [
    {
     "data": {
      "text/plain": [
       "a b c d \n",
       "1 9 8 7 \n"
      ]
     },
     "metadata": {},
     "output_type": "display_data"
    }
   ],
   "source": [
    "%%R\n",
    "# Assign names to items in a vector (only for R)\n",
    "names <- c(\"a\", \"b\", \"c\", \"d\")\n",
    "names(s_vector) <- names\n",
    "s_vector"
   ]
  },
  {
   "cell_type": "markdown",
   "metadata": {},
   "source": [
    "### Selecting items/elements from a vector"
   ]
  },
  {
   "cell_type": "markdown",
   "metadata": {},
   "source": [
    "**Important**: The index of the first item in Python arrays is '0', whereas the index of the first item in R is '1'."
   ]
  },
  {
   "cell_type": "code",
   "execution_count": 22,
   "metadata": {},
   "outputs": [
    {
     "data": {
      "text/plain": [
       "(1, array([1, 9]))"
      ]
     },
     "execution_count": 22,
     "metadata": {},
     "output_type": "execute_result"
    }
   ],
   "source": [
    "# Python - Selection\n",
    "t_array[0], t_array[[0,1]]"
   ]
  },
  {
   "cell_type": "code",
   "execution_count": 23,
   "metadata": {},
   "outputs": [
    {
     "data": {
      "text/plain": [
       "[1] 1\n"
      ]
     },
     "metadata": {},
     "output_type": "display_data"
    }
   ],
   "source": [
    "%%R\n",
    "# R - Selection\n",
    "t_vector[1]"
   ]
  },
  {
   "cell_type": "code",
   "execution_count": 24,
   "metadata": {},
   "outputs": [
    {
     "data": {
      "text/plain": [
       "a \n",
       "1 \n",
       "a \n",
       "1 \n"
      ]
     },
     "metadata": {},
     "output_type": "display_data"
    }
   ],
   "source": [
    "%%R\n",
    "# Subsetting by index\n",
    "print(s_vector[1])\n",
    "# Subsetting by name\n",
    "print(s_vector['a'])"
   ]
  },
  {
   "cell_type": "code",
   "execution_count": 25,
   "metadata": {},
   "outputs": [
    {
     "data": {
      "text/plain": [
       "array([1, 9, 8])"
      ]
     },
     "execution_count": 25,
     "metadata": {},
     "output_type": "execute_result"
    }
   ],
   "source": [
    "# Python - slicing\n",
    "t_array[0:3] # prints only three elements."
   ]
  },
  {
   "cell_type": "code",
   "execution_count": 26,
   "metadata": {},
   "outputs": [
    {
     "data": {
      "text/plain": [
       "[1] 1 9 8\n"
      ]
     },
     "metadata": {},
     "output_type": "display_data"
    }
   ],
   "source": [
    "%%R\n",
    "# R - slicing\n",
    "t_vector[1:3]"
   ]
  },
  {
   "cell_type": "code",
   "execution_count": 27,
   "metadata": {},
   "outputs": [
    {
     "data": {
      "text/plain": [
       "array([9, 8])"
      ]
     },
     "execution_count": 27,
     "metadata": {},
     "output_type": "execute_result"
    }
   ],
   "source": [
    "# Python - selecting by comparison\n",
    "t_array[t_array > 5]"
   ]
  },
  {
   "cell_type": "code",
   "execution_count": 28,
   "metadata": {},
   "outputs": [
    {
     "data": {
      "text/plain": [
       "[1] 9 8\n"
      ]
     },
     "metadata": {},
     "output_type": "display_data"
    }
   ],
   "source": [
    "%%R\n",
    "# R - Selecting by comparison\n",
    "t_vector[t_vector > 5]"
   ]
  },
  {
   "cell_type": "markdown",
   "metadata": {},
   "source": [
    "## Matrix\n",
    "\n",
    "Matrices are two dimensional arrays. The elements of a Matrix have the same data type such as numeric, character or logical/boolean.\n",
    "\n",
    "_Note: Python doesn't have a built-in type for matrices. Multi-dimensional arrays can be used as matrices._"
   ]
  },
  {
   "cell_type": "code",
   "execution_count": 29,
   "metadata": {},
   "outputs": [
    {
     "data": {
      "text/plain": [
       "array([[1, 2, 3],\n",
       "       [4, 5, 6],\n",
       "       [7, 8, 9]])"
      ]
     },
     "execution_count": 29,
     "metadata": {},
     "output_type": "execute_result"
    }
   ],
   "source": [
    "# Python - Creating a matrix using np.arange\n",
    "py_matrix = np.arange(1, 10).reshape(3, 3)\n",
    "py_matrix"
   ]
  },
  {
   "cell_type": "code",
   "execution_count": 30,
   "metadata": {},
   "outputs": [
    {
     "data": {
      "text/plain": [
       "matrix([[1, 2, 3],\n",
       "        [4, 5, 6],\n",
       "        [7, 8, 9]])"
      ]
     },
     "execution_count": 30,
     "metadata": {},
     "output_type": "execute_result"
    }
   ],
   "source": [
    "# Python - Creating a matrix using np.matrix\n",
    "np.matrix([[1, 2, 3], [4, 5, 6], [7, 8, 9]])"
   ]
  },
  {
   "cell_type": "code",
   "execution_count": 31,
   "metadata": {},
   "outputs": [
    {
     "data": {
      "text/plain": [
       "array([ 6, 15, 24])"
      ]
     },
     "execution_count": 31,
     "metadata": {},
     "output_type": "execute_result"
    }
   ],
   "source": [
    "# Python - Calculating the row sums\n",
    "np.sum(py_matrix, axis = 1) # axis -> axis along which we want to sum the values"
   ]
  },
  {
   "cell_type": "code",
   "execution_count": 32,
   "metadata": {},
   "outputs": [
    {
     "data": {
      "text/plain": [
       "array([[ 1,  2,  3,  6],\n",
       "       [ 4,  5,  6, 15],\n",
       "       [ 7,  8,  9, 24]])"
      ]
     },
     "execution_count": 32,
     "metadata": {},
     "output_type": "execute_result"
    }
   ],
   "source": [
    "# Python - Adding a new column\n",
    "np.insert(py_matrix, 3, np.sum(py_matrix, axis = 1), axis=1)"
   ]
  },
  {
   "cell_type": "code",
   "execution_count": 33,
   "metadata": {},
   "outputs": [
    {
     "data": {
      "text/plain": [
       "     [,1] [,2] [,3]\n",
       "[1,]    1    2    3\n",
       "[2,]    4    5    6\n",
       "[3,]    7    8    9\n"
      ]
     },
     "metadata": {},
     "output_type": "display_data"
    }
   ],
   "source": [
    "%%R\n",
    "# Constructing a matrix with the matrix() function\n",
    "r_matrix <- matrix(1:9, byrow = TRUE, nrow = 3)\n",
    "r_matrix"
   ]
  },
  {
   "cell_type": "code",
   "execution_count": 34,
   "metadata": {},
   "outputs": [
    {
     "data": {
      "text/plain": [
       "   c1 c2 c3\n",
       "r1  1  2  3\n",
       "r2  4  5  6\n",
       "r3  7  8  9\n"
      ]
     },
     "metadata": {},
     "output_type": "display_data"
    }
   ],
   "source": [
    "%%R\n",
    "# R - Naming a matrix\n",
    "rownames(r_matrix) <- c(\"r1\", \"r2\", \"r3\")\n",
    "colnames(r_matrix) <- c(\"c1\", \"c2\", \"c3\")\n",
    "r_matrix"
   ]
  },
  {
   "cell_type": "code",
   "execution_count": 35,
   "metadata": {},
   "outputs": [
    {
     "data": {
      "text/plain": [
       "r1 r2 r3 \n",
       " 6 15 24 \n"
      ]
     },
     "metadata": {},
     "output_type": "display_data"
    }
   ],
   "source": [
    "%%R\n",
    "# R - Calculating the row sums\n",
    "rowSums(r_matrix)"
   ]
  },
  {
   "cell_type": "code",
   "execution_count": 36,
   "metadata": {},
   "outputs": [
    {
     "data": {
      "text/plain": [
       "   c1 c2 c3   \n",
       "r1  1  2  3  6\n",
       "r2  4  5  6 15\n",
       "r3  7  8  9 24\n"
      ]
     },
     "metadata": {},
     "output_type": "display_data"
    }
   ],
   "source": [
    "%%R\n",
    "# R - Adding a new column\n",
    "cbind(r_matrix, rowSums(r_matrix))"
   ]
  },
  {
   "cell_type": "markdown",
   "metadata": {},
   "source": [
    "### Selecting Elements from a Matrix"
   ]
  },
  {
   "cell_type": "code",
   "execution_count": 37,
   "metadata": {},
   "outputs": [
    {
     "data": {
      "text/plain": [
       "1"
      ]
     },
     "execution_count": 37,
     "metadata": {},
     "output_type": "execute_result"
    }
   ],
   "source": [
    "# Python - Selecting Elements from a Matrix\n",
    "py_matrix[0,0]"
   ]
  },
  {
   "cell_type": "code",
   "execution_count": 38,
   "metadata": {},
   "outputs": [
    {
     "data": {
      "text/plain": [
       "array([[1, 2],\n",
       "       [4, 5],\n",
       "       [7, 8]])"
      ]
     },
     "execution_count": 38,
     "metadata": {},
     "output_type": "execute_result"
    }
   ],
   "source": [
    "# Python - Selecting Elements from a Matrix\n",
    "py_matrix[:, 0:2]"
   ]
  },
  {
   "cell_type": "code",
   "execution_count": 39,
   "metadata": {},
   "outputs": [
    {
     "data": {
      "text/plain": [
       "[1] 1\n"
      ]
     },
     "metadata": {},
     "output_type": "display_data"
    }
   ],
   "source": [
    "%%R\n",
    "# R - Selecting Elements from a Matrix\n",
    "r_matrix[1, 1]"
   ]
  },
  {
   "cell_type": "code",
   "execution_count": 40,
   "metadata": {},
   "outputs": [
    {
     "data": {
      "text/plain": [
       "   c1 c2\n",
       "r1  1  2\n",
       "r2  4  5\n",
       "r3  7  8\n"
      ]
     },
     "metadata": {},
     "output_type": "display_data"
    }
   ],
   "source": [
    "%%R\n",
    "# R - Selecting Elements from a Matrix\n",
    "r_matrix[, 1:2] # We do not need to use ':' as we'd do in our Python code"
   ]
  },
  {
   "cell_type": "markdown",
   "metadata": {},
   "source": [
    "### Arithmetic"
   ]
  },
  {
   "cell_type": "code",
   "execution_count": 41,
   "metadata": {},
   "outputs": [
    {
     "data": {
      "text/plain": [
       "array([[ 2,  4,  6],\n",
       "       [ 8, 10, 12],\n",
       "       [14, 16, 18]])"
      ]
     },
     "execution_count": 41,
     "metadata": {},
     "output_type": "execute_result"
    }
   ],
   "source": [
    "# Python - Matrix arithmetic\n",
    "py_matrix * 2"
   ]
  },
  {
   "cell_type": "code",
   "execution_count": 42,
   "metadata": {},
   "outputs": [
    {
     "data": {
      "text/plain": [
       "array([[ 2,  4,  6],\n",
       "       [ 8, 10, 12],\n",
       "       [14, 16, 18]])"
      ]
     },
     "execution_count": 42,
     "metadata": {},
     "output_type": "execute_result"
    }
   ],
   "source": [
    "# Python - Matrix arithmetic\n",
    "py_matrix + py_matrix"
   ]
  },
  {
   "cell_type": "code",
   "execution_count": 43,
   "metadata": {},
   "outputs": [
    {
     "data": {
      "text/plain": [
       "   c1 c2 c3\n",
       "r1  2  4  6\n",
       "r2  8 10 12\n",
       "r3 14 16 18\n"
      ]
     },
     "metadata": {},
     "output_type": "display_data"
    }
   ],
   "source": [
    "%%R\n",
    "# R - Matrix arithmetic\n",
    "r_matrix * 2"
   ]
  },
  {
   "cell_type": "code",
   "execution_count": 44,
   "metadata": {},
   "outputs": [
    {
     "data": {
      "text/plain": [
       "   c1 c2 c3\n",
       "r1  2  4  6\n",
       "r2  8 10 12\n",
       "r3 14 16 18\n"
      ]
     },
     "metadata": {},
     "output_type": "display_data"
    }
   ],
   "source": [
    "%%R\n",
    "# R - Matrix arithmetic\n",
    "r_matrix + r_matrix"
   ]
  },
  {
   "cell_type": "markdown",
   "metadata": {},
   "source": [
    "## Factors\n",
    "\n",
    "In R, categorical data is stored in factors. In python, unlike R, we cannot represent categorical data as factors. Yet, we can specify a type as 'categorical'."
   ]
  },
  {
   "cell_type": "code",
   "execution_count": 45,
   "metadata": {},
   "outputs": [],
   "source": [
    "import pandas as pd"
   ]
  },
  {
   "cell_type": "code",
   "execution_count": 46,
   "metadata": {},
   "outputs": [
    {
     "data": {
      "text/plain": [
       "0     small\n",
       "1    medium\n",
       "2     large\n",
       "3     large\n",
       "dtype: object"
      ]
     },
     "execution_count": 46,
     "metadata": {},
     "output_type": "execute_result"
    },
    {
     "data": {
      "text/plain": [
       "0     small\n",
       "1    medium\n",
       "2     large\n",
       "3     large\n",
       "dtype: category\n",
       "Categories (3, object): [large, medium, small]"
      ]
     },
     "execution_count": 46,
     "metadata": {},
     "output_type": "execute_result"
    }
   ],
   "source": [
    "# Python - Categories\n",
    "size_cat_obj = pd.Series(['small', 'medium', 'large', 'large'])\n",
    "size_cat_obj\n",
    "\n",
    "# Category with `dtype`\n",
    "size_cat_cat = pd.Series(['small', 'medium', 'large', 'large'], dtype='category')\n",
    "size_cat_cat"
   ]
  },
  {
   "cell_type": "code",
   "execution_count": 47,
   "metadata": {},
   "outputs": [
    {
     "data": {
      "text/plain": [
       "0     small\n",
       "1    medium\n",
       "2     large\n",
       "3     large\n",
       "dtype: category\n",
       "Categories (3, object): [large, medium, small]"
      ]
     },
     "execution_count": 47,
     "metadata": {},
     "output_type": "execute_result"
    }
   ],
   "source": [
    "# Python - Category with `astype`\n",
    "size_cat_obj.astype('category')"
   ]
  },
  {
   "cell_type": "code",
   "execution_count": 48,
   "metadata": {},
   "outputs": [
    {
     "data": {
      "text/plain": [
       "[1] small  medium large  large \n",
       "Levels: large medium small\n"
      ]
     },
     "metadata": {},
     "output_type": "display_data"
    }
   ],
   "source": [
    "%%R\n",
    "# R - Creating factors\n",
    "size_vector <- c(\"small\", \"medium\", \"large\", \"large\")\n",
    "size_fac <- factor(size_vector)\n",
    "size_fac"
   ]
  },
  {
   "cell_type": "code",
   "execution_count": 49,
   "metadata": {},
   "outputs": [
    {
     "data": {
      "text/plain": [
       "[1] medium small  large  large \n",
       "Levels: small < medium < large\n"
      ]
     },
     "metadata": {},
     "output_type": "display_data"
    }
   ],
   "source": [
    "%%R\n",
    "# R - Creating factors (ordered)\n",
    "size_vector <- c(\"medium\", \"small\", \"large\", \"large\")\n",
    "size_fac <- factor(size_vector, ordered = TRUE, levels = c(\"small\", \"medium\", \"large\"))\n",
    "size_fac"
   ]
  },
  {
   "cell_type": "code",
   "execution_count": 50,
   "metadata": {},
   "outputs": [
    {
     "data": {
      "text/plain": [
       "[1] size2 size1 size3 size3\n",
       "Levels: size1 < size2 < size3\n"
      ]
     },
     "metadata": {},
     "output_type": "display_data"
    }
   ],
   "source": [
    "%%R\n",
    "# R - Change the level names\n",
    "levels(size_fac) <- c(\"size1\", \"size2\", \"size3\")\n",
    "size_fac"
   ]
  },
  {
   "cell_type": "code",
   "execution_count": 51,
   "metadata": {},
   "outputs": [
    {
     "data": {
      "text/plain": [
       "size1 size2 size3 \n",
       "    1     1     2 \n"
      ]
     },
     "metadata": {},
     "output_type": "display_data"
    }
   ],
   "source": [
    "%%R\n",
    "# R - Summary\n",
    "summary(size_fac)"
   ]
  },
  {
   "cell_type": "code",
   "execution_count": 52,
   "metadata": {},
   "outputs": [
    {
     "data": {
      "text/plain": [
       "[1] FALSE\n"
      ]
     },
     "metadata": {},
     "output_type": "display_data"
    }
   ],
   "source": [
    "%%R\n",
    "# R - Comparing ordered factors\n",
    "size_fac[2] > size_fac[1]"
   ]
  },
  {
   "cell_type": "markdown",
   "metadata": {},
   "source": [
    "## Data Frames\n",
    "\n",
    "Data frames are two dimensional **objects**. The elements of a column must have the same data type. Different columns may hold different data types."
   ]
  },
  {
   "cell_type": "code",
   "execution_count": 53,
   "metadata": {},
   "outputs": [
    {
     "data": {
      "text/html": [
       "<div>\n",
       "<style scoped>\n",
       "    .dataframe tbody tr th:only-of-type {\n",
       "        vertical-align: middle;\n",
       "    }\n",
       "\n",
       "    .dataframe tbody tr th {\n",
       "        vertical-align: top;\n",
       "    }\n",
       "\n",
       "    .dataframe thead th {\n",
       "        text-align: right;\n",
       "    }\n",
       "</style>\n",
       "<table border=\"1\" class=\"dataframe\">\n",
       "  <thead>\n",
       "    <tr style=\"text-align: right;\">\n",
       "      <th></th>\n",
       "      <th>sepal.length</th>\n",
       "      <th>sepal.width</th>\n",
       "      <th>petal.length</th>\n",
       "      <th>petal.width</th>\n",
       "      <th>variety</th>\n",
       "    </tr>\n",
       "  </thead>\n",
       "  <tbody>\n",
       "    <tr>\n",
       "      <th>0</th>\n",
       "      <td>5.1</td>\n",
       "      <td>3.5</td>\n",
       "      <td>1.4</td>\n",
       "      <td>0.2</td>\n",
       "      <td>Setosa</td>\n",
       "    </tr>\n",
       "    <tr>\n",
       "      <th>1</th>\n",
       "      <td>4.9</td>\n",
       "      <td>3.0</td>\n",
       "      <td>1.4</td>\n",
       "      <td>0.2</td>\n",
       "      <td>Setosa</td>\n",
       "    </tr>\n",
       "    <tr>\n",
       "      <th>2</th>\n",
       "      <td>4.7</td>\n",
       "      <td>3.2</td>\n",
       "      <td>1.3</td>\n",
       "      <td>0.2</td>\n",
       "      <td>Setosa</td>\n",
       "    </tr>\n",
       "    <tr>\n",
       "      <th>3</th>\n",
       "      <td>4.6</td>\n",
       "      <td>3.1</td>\n",
       "      <td>1.5</td>\n",
       "      <td>0.2</td>\n",
       "      <td>Setosa</td>\n",
       "    </tr>\n",
       "    <tr>\n",
       "      <th>4</th>\n",
       "      <td>5.0</td>\n",
       "      <td>3.6</td>\n",
       "      <td>1.4</td>\n",
       "      <td>0.2</td>\n",
       "      <td>Setosa</td>\n",
       "    </tr>\n",
       "  </tbody>\n",
       "</table>\n",
       "</div>"
      ],
      "text/plain": [
       "   sepal.length  sepal.width  petal.length  petal.width variety\n",
       "0           5.1          3.5           1.4          0.2  Setosa\n",
       "1           4.9          3.0           1.4          0.2  Setosa\n",
       "2           4.7          3.2           1.3          0.2  Setosa\n",
       "3           4.6          3.1           1.5          0.2  Setosa\n",
       "4           5.0          3.6           1.4          0.2  Setosa"
      ]
     },
     "execution_count": 53,
     "metadata": {},
     "output_type": "execute_result"
    }
   ],
   "source": [
    "# Python - Data Frames\n",
    "\n",
    "df_P = pd.read_csv('datasets/iris.csv')\n",
    "\n",
    "# Print the first 5 observations (rows)\n",
    "df_P.head()"
   ]
  },
  {
   "cell_type": "code",
   "execution_count": 54,
   "metadata": {},
   "outputs": [
    {
     "data": {
      "text/plain": [
       "  sepal.length sepal.width petal.length petal.width variety\n",
       "1          5.1         3.5          1.4         0.2  Setosa\n",
       "2          4.9         3.0          1.4         0.2  Setosa\n",
       "3          4.7         3.2          1.3         0.2  Setosa\n",
       "4          4.6         3.1          1.5         0.2  Setosa\n",
       "5          5.0         3.6          1.4         0.2  Setosa\n",
       "6          5.4         3.9          1.7         0.4  Setosa\n"
      ]
     },
     "metadata": {},
     "output_type": "display_data"
    }
   ],
   "source": [
    "%%R\n",
    "# R - Data Frames\n",
    "df_R = read.csv('datasets/iris.csv')\n",
    "\n",
    "# Print the first 6 observations (rows)\n",
    "head(df_R)"
   ]
  },
  {
   "cell_type": "code",
   "execution_count": 55,
   "metadata": {},
   "outputs": [
    {
     "name": "stdout",
     "output_type": "stream",
     "text": [
      "<class 'pandas.core.frame.DataFrame'>\n",
      "RangeIndex: 150 entries, 0 to 149\n",
      "Data columns (total 5 columns):\n",
      "sepal.length    150 non-null float64\n",
      "sepal.width     150 non-null float64\n",
      "petal.length    150 non-null float64\n",
      "petal.width     150 non-null float64\n",
      "variety         150 non-null object\n",
      "dtypes: float64(4), object(1)\n",
      "memory usage: 5.9+ KB\n"
     ]
    }
   ],
   "source": [
    "# Python - Investigate DataFrames\n",
    "\n",
    "# Get the basic info of the df\n",
    "df_P.info()"
   ]
  },
  {
   "cell_type": "code",
   "execution_count": 56,
   "metadata": {},
   "outputs": [
    {
     "data": {
      "text/plain": [
       "'data.frame':\t150 obs. of  5 variables:\n",
       " $ sepal.length: num  5.1 4.9 4.7 4.6 5 5.4 4.6 5 4.4 4.9 ...\n",
       " $ sepal.width : num  3.5 3 3.2 3.1 3.6 3.9 3.4 3.4 2.9 3.1 ...\n",
       " $ petal.length: num  1.4 1.4 1.3 1.5 1.4 1.7 1.4 1.5 1.4 1.5 ...\n",
       " $ petal.width : num  0.2 0.2 0.2 0.2 0.2 0.4 0.3 0.2 0.2 0.1 ...\n",
       " $ variety     : Factor w/ 3 levels \"Setosa\",\"Versicolor\",..: 1 1 1 1 1 1 1 1 1 1 ...\n"
      ]
     },
     "metadata": {},
     "output_type": "display_data"
    }
   ],
   "source": [
    "%%R\n",
    "# R - Investigate Data Frames\n",
    "\n",
    "# Investigate the structure of df\n",
    "str(df_R)"
   ]
  },
  {
   "cell_type": "code",
   "execution_count": 57,
   "metadata": {},
   "outputs": [
    {
     "data": {
      "text/html": [
       "<div>\n",
       "<style scoped>\n",
       "    .dataframe tbody tr th:only-of-type {\n",
       "        vertical-align: middle;\n",
       "    }\n",
       "\n",
       "    .dataframe tbody tr th {\n",
       "        vertical-align: top;\n",
       "    }\n",
       "\n",
       "    .dataframe thead th {\n",
       "        text-align: right;\n",
       "    }\n",
       "</style>\n",
       "<table border=\"1\" class=\"dataframe\">\n",
       "  <thead>\n",
       "    <tr style=\"text-align: right;\">\n",
       "      <th></th>\n",
       "      <th>col1</th>\n",
       "      <th>col2</th>\n",
       "    </tr>\n",
       "  </thead>\n",
       "  <tbody>\n",
       "    <tr>\n",
       "      <th>0</th>\n",
       "      <td>1</td>\n",
       "      <td>4</td>\n",
       "    </tr>\n",
       "    <tr>\n",
       "      <th>1</th>\n",
       "      <td>2</td>\n",
       "      <td>5</td>\n",
       "    </tr>\n",
       "    <tr>\n",
       "      <th>2</th>\n",
       "      <td>3</td>\n",
       "      <td>6</td>\n",
       "    </tr>\n",
       "  </tbody>\n",
       "</table>\n",
       "</div>"
      ],
      "text/plain": [
       "   col1  col2\n",
       "0     1     4\n",
       "1     2     5\n",
       "2     3     6"
      ]
     },
     "execution_count": 57,
     "metadata": {},
     "output_type": "execute_result"
    }
   ],
   "source": [
    "# Python - Create a DataFrame\n",
    "\n",
    "d = {'col1': [1, 2, 3], 'col2': [4, 5, 6]}\n",
    "df = pd.DataFrame(data=d)\n",
    "df"
   ]
  },
  {
   "cell_type": "code",
   "execution_count": 58,
   "metadata": {},
   "outputs": [
    {
     "data": {
      "text/plain": [
       "  col1 col2\n",
       "1    1    4\n",
       "2    2    5\n",
       "3    3    6\n"
      ]
     },
     "metadata": {},
     "output_type": "display_data"
    }
   ],
   "source": [
    "%%R\n",
    "# R - Create Data Frames with `data.frame()` function\n",
    "\n",
    "col1 <- c(1, 2, 3)\n",
    "col2 <- c(4, 5, 6)\n",
    "df = data.frame(col1, col2)\n",
    "df"
   ]
  },
  {
   "cell_type": "code",
   "execution_count": 59,
   "metadata": {},
   "outputs": [
    {
     "data": {
      "text/plain": [
       "4"
      ]
     },
     "execution_count": 59,
     "metadata": {},
     "output_type": "execute_result"
    },
    {
     "data": {
      "text/plain": [
       "col1    2\n",
       "col2    5\n",
       "Name: 1, dtype: int64"
      ]
     },
     "execution_count": 59,
     "metadata": {},
     "output_type": "execute_result"
    },
    {
     "data": {
      "text/plain": [
       "0    1\n",
       "1    2\n",
       "2    3\n",
       "Name: col1, dtype: int64"
      ]
     },
     "execution_count": 59,
     "metadata": {},
     "output_type": "execute_result"
    }
   ],
   "source": [
    "# Python - Selection from a DataFrame\n",
    "\n",
    "df.iloc[0, 1]\n",
    "\n",
    "# Print the second row\n",
    "df.iloc[1, :]\n",
    "\n",
    "# Print the first column\n",
    "df['col1']"
   ]
  },
  {
   "cell_type": "code",
   "execution_count": 60,
   "metadata": {},
   "outputs": [
    {
     "data": {
      "text/plain": [
       "[1] 4\n",
       "  col1 col2\n",
       "2    2    5\n",
       "  col1\n",
       "1    1\n",
       "2    2\n",
       "3    3\n"
      ]
     },
     "metadata": {},
     "output_type": "display_data"
    }
   ],
   "source": [
    "%%R\n",
    "# R - Selection from a Data Frame\n",
    "print(df[1, 2])\n",
    "\n",
    "# Print the second row\n",
    "print(df[2, ])\n",
    "\n",
    "# Print the first column\n",
    "print(df[\"col1\"])"
   ]
  },
  {
   "cell_type": "code",
   "execution_count": 61,
   "metadata": {},
   "outputs": [
    {
     "data": {
      "text/plain": [
       "0    1\n",
       "1    2\n",
       "2    3\n",
       "Name: col1, dtype: int64"
      ]
     },
     "execution_count": 61,
     "metadata": {},
     "output_type": "execute_result"
    }
   ],
   "source": [
    "# Python - Selecting a column (shortcut)\n",
    "df.col1\n",
    "# df['col1']"
   ]
  },
  {
   "cell_type": "code",
   "execution_count": 62,
   "metadata": {},
   "outputs": [
    {
     "data": {
      "text/plain": [
       "[1] 1 2 3\n"
      ]
     },
     "metadata": {},
     "output_type": "display_data"
    }
   ],
   "source": [
    "%%R\n",
    "# R - Selecting a column (shortcut)\n",
    "df$col1"
   ]
  },
  {
   "cell_type": "code",
   "execution_count": 63,
   "metadata": {},
   "outputs": [
    {
     "data": {
      "text/html": [
       "<div>\n",
       "<style scoped>\n",
       "    .dataframe tbody tr th:only-of-type {\n",
       "        vertical-align: middle;\n",
       "    }\n",
       "\n",
       "    .dataframe tbody tr th {\n",
       "        vertical-align: top;\n",
       "    }\n",
       "\n",
       "    .dataframe thead th {\n",
       "        text-align: right;\n",
       "    }\n",
       "</style>\n",
       "<table border=\"1\" class=\"dataframe\">\n",
       "  <thead>\n",
       "    <tr style=\"text-align: right;\">\n",
       "      <th></th>\n",
       "      <th>col1</th>\n",
       "      <th>col2</th>\n",
       "    </tr>\n",
       "  </thead>\n",
       "  <tbody>\n",
       "    <tr>\n",
       "      <th>1</th>\n",
       "      <td>2</td>\n",
       "      <td>5</td>\n",
       "    </tr>\n",
       "    <tr>\n",
       "      <th>2</th>\n",
       "      <td>3</td>\n",
       "      <td>6</td>\n",
       "    </tr>\n",
       "  </tbody>\n",
       "</table>\n",
       "</div>"
      ],
      "text/plain": [
       "   col1  col2\n",
       "1     2     5\n",
       "2     3     6"
      ]
     },
     "execution_count": 63,
     "metadata": {},
     "output_type": "execute_result"
    }
   ],
   "source": [
    "# Python - Subsetting\n",
    "df[df.col1 > 1]"
   ]
  },
  {
   "cell_type": "code",
   "execution_count": 64,
   "metadata": {},
   "outputs": [
    {
     "data": {
      "text/plain": [
       "  col1 col2\n",
       "2    2    5\n",
       "3    3    6\n"
      ]
     },
     "metadata": {},
     "output_type": "display_data"
    }
   ],
   "source": [
    "%%R\n",
    "# R - Subsetting\n",
    "\n",
    "subset(df, col1 > 1) # df[col1>1, ]"
   ]
  },
  {
   "cell_type": "markdown",
   "metadata": {},
   "source": [
    "# Lists\n",
    "\n",
    "Lists can hold different data types."
   ]
  },
  {
   "cell_type": "code",
   "execution_count": 67,
   "metadata": {},
   "outputs": [
    {
     "data": {
      "text/plain": [
       "[array([1, 9, 8, 4]), array([[1, 2, 3],\n",
       "        [4, 5, 6],\n",
       "        [7, 8, 9]]),      sepal.length  sepal.width  petal.length  petal.width    variety\n",
       " 0             5.1          3.5           1.4          0.2     Setosa\n",
       " 1             4.9          3.0           1.4          0.2     Setosa\n",
       " 2             4.7          3.2           1.3          0.2     Setosa\n",
       " 3             4.6          3.1           1.5          0.2     Setosa\n",
       " 4             5.0          3.6           1.4          0.2     Setosa\n",
       " 5             5.4          3.9           1.7          0.4     Setosa\n",
       " 6             4.6          3.4           1.4          0.3     Setosa\n",
       " 7             5.0          3.4           1.5          0.2     Setosa\n",
       " 8             4.4          2.9           1.4          0.2     Setosa\n",
       " 9             4.9          3.1           1.5          0.1     Setosa\n",
       " 10            5.4          3.7           1.5          0.2     Setosa\n",
       " 11            4.8          3.4           1.6          0.2     Setosa\n",
       " 12            4.8          3.0           1.4          0.1     Setosa\n",
       " 13            4.3          3.0           1.1          0.1     Setosa\n",
       " 14            5.8          4.0           1.2          0.2     Setosa\n",
       " 15            5.7          4.4           1.5          0.4     Setosa\n",
       " 16            5.4          3.9           1.3          0.4     Setosa\n",
       " 17            5.1          3.5           1.4          0.3     Setosa\n",
       " 18            5.7          3.8           1.7          0.3     Setosa\n",
       " 19            5.1          3.8           1.5          0.3     Setosa\n",
       " 20            5.4          3.4           1.7          0.2     Setosa\n",
       " 21            5.1          3.7           1.5          0.4     Setosa\n",
       " 22            4.6          3.6           1.0          0.2     Setosa\n",
       " 23            5.1          3.3           1.7          0.5     Setosa\n",
       " 24            4.8          3.4           1.9          0.2     Setosa\n",
       " 25            5.0          3.0           1.6          0.2     Setosa\n",
       " 26            5.0          3.4           1.6          0.4     Setosa\n",
       " 27            5.2          3.5           1.5          0.2     Setosa\n",
       " 28            5.2          3.4           1.4          0.2     Setosa\n",
       " 29            4.7          3.2           1.6          0.2     Setosa\n",
       " ..            ...          ...           ...          ...        ...\n",
       " 120           6.9          3.2           5.7          2.3  Virginica\n",
       " 121           5.6          2.8           4.9          2.0  Virginica\n",
       " 122           7.7          2.8           6.7          2.0  Virginica\n",
       " 123           6.3          2.7           4.9          1.8  Virginica\n",
       " 124           6.7          3.3           5.7          2.1  Virginica\n",
       " 125           7.2          3.2           6.0          1.8  Virginica\n",
       " 126           6.2          2.8           4.8          1.8  Virginica\n",
       " 127           6.1          3.0           4.9          1.8  Virginica\n",
       " 128           6.4          2.8           5.6          2.1  Virginica\n",
       " 129           7.2          3.0           5.8          1.6  Virginica\n",
       " 130           7.4          2.8           6.1          1.9  Virginica\n",
       " 131           7.9          3.8           6.4          2.0  Virginica\n",
       " 132           6.4          2.8           5.6          2.2  Virginica\n",
       " 133           6.3          2.8           5.1          1.5  Virginica\n",
       " 134           6.1          2.6           5.6          1.4  Virginica\n",
       " 135           7.7          3.0           6.1          2.3  Virginica\n",
       " 136           6.3          3.4           5.6          2.4  Virginica\n",
       " 137           6.4          3.1           5.5          1.8  Virginica\n",
       " 138           6.0          3.0           4.8          1.8  Virginica\n",
       " 139           6.9          3.1           5.4          2.1  Virginica\n",
       " 140           6.7          3.1           5.6          2.4  Virginica\n",
       " 141           6.9          3.1           5.1          2.3  Virginica\n",
       " 142           5.8          2.7           5.1          1.9  Virginica\n",
       " 143           6.8          3.2           5.9          2.3  Virginica\n",
       " 144           6.7          3.3           5.7          2.5  Virginica\n",
       " 145           6.7          3.0           5.2          2.3  Virginica\n",
       " 146           6.3          2.5           5.0          1.9  Virginica\n",
       " 147           6.5          3.0           5.2          2.0  Virginica\n",
       " 148           6.2          3.4           5.4          2.3  Virginica\n",
       " 149           5.9          3.0           5.1          1.8  Virginica\n",
       " \n",
       " [150 rows x 5 columns]]"
      ]
     },
     "execution_count": 67,
     "metadata": {},
     "output_type": "execute_result"
    }
   ],
   "source": [
    "# Python - Creating a list\n",
    "my_Plist = [t_array, py_matrix, df_P]\n",
    "my_Plist"
   ]
  },
  {
   "cell_type": "code",
   "execution_count": 70,
   "metadata": {},
   "outputs": [
    {
     "data": {
      "text/plain": [
       "[[1]]\n",
       "[1] 1 9 8 4\n",
       "\n",
       "[[2]]\n",
       "   c1 c2 c3\n",
       "r1  1  2  3\n",
       "r2  4  5  6\n",
       "r3  7  8  9\n",
       "\n",
       "[[3]]\n",
       "    sepal.length sepal.width petal.length petal.width    variety\n",
       "1            5.1         3.5          1.4         0.2     Setosa\n",
       "2            4.9         3.0          1.4         0.2     Setosa\n",
       "3            4.7         3.2          1.3         0.2     Setosa\n",
       "4            4.6         3.1          1.5         0.2     Setosa\n",
       "5            5.0         3.6          1.4         0.2     Setosa\n",
       "6            5.4         3.9          1.7         0.4     Setosa\n",
       "7            4.6         3.4          1.4         0.3     Setosa\n",
       "8            5.0         3.4          1.5         0.2     Setosa\n",
       "9            4.4         2.9          1.4         0.2     Setosa\n",
       "10           4.9         3.1          1.5         0.1     Setosa\n",
       "11           5.4         3.7          1.5         0.2     Setosa\n",
       "12           4.8         3.4          1.6         0.2     Setosa\n",
       "13           4.8         3.0          1.4         0.1     Setosa\n",
       "14           4.3         3.0          1.1         0.1     Setosa\n",
       "15           5.8         4.0          1.2         0.2     Setosa\n",
       "16           5.7         4.4          1.5         0.4     Setosa\n",
       "17           5.4         3.9          1.3         0.4     Setosa\n",
       "18           5.1         3.5          1.4         0.3     Setosa\n",
       "19           5.7         3.8          1.7         0.3     Setosa\n",
       "20           5.1         3.8          1.5         0.3     Setosa\n",
       "21           5.4         3.4          1.7         0.2     Setosa\n",
       "22           5.1         3.7          1.5         0.4     Setosa\n",
       "23           4.6         3.6          1.0         0.2     Setosa\n",
       "24           5.1         3.3          1.7         0.5     Setosa\n",
       "25           4.8         3.4          1.9         0.2     Setosa\n",
       "26           5.0         3.0          1.6         0.2     Setosa\n",
       "27           5.0         3.4          1.6         0.4     Setosa\n",
       "28           5.2         3.5          1.5         0.2     Setosa\n",
       "29           5.2         3.4          1.4         0.2     Setosa\n",
       "30           4.7         3.2          1.6         0.2     Setosa\n",
       "31           4.8         3.1          1.6         0.2     Setosa\n",
       "32           5.4         3.4          1.5         0.4     Setosa\n",
       "33           5.2         4.1          1.5         0.1     Setosa\n",
       "34           5.5         4.2          1.4         0.2     Setosa\n",
       "35           4.9         3.1          1.5         0.2     Setosa\n",
       "36           5.0         3.2          1.2         0.2     Setosa\n",
       "37           5.5         3.5          1.3         0.2     Setosa\n",
       "38           4.9         3.6          1.4         0.1     Setosa\n",
       "39           4.4         3.0          1.3         0.2     Setosa\n",
       "40           5.1         3.4          1.5         0.2     Setosa\n",
       "41           5.0         3.5          1.3         0.3     Setosa\n",
       "42           4.5         2.3          1.3         0.3     Setosa\n",
       "43           4.4         3.2          1.3         0.2     Setosa\n",
       "44           5.0         3.5          1.6         0.6     Setosa\n",
       "45           5.1         3.8          1.9         0.4     Setosa\n",
       "46           4.8         3.0          1.4         0.3     Setosa\n",
       "47           5.1         3.8          1.6         0.2     Setosa\n",
       "48           4.6         3.2          1.4         0.2     Setosa\n",
       "49           5.3         3.7          1.5         0.2     Setosa\n",
       "50           5.0         3.3          1.4         0.2     Setosa\n",
       "51           7.0         3.2          4.7         1.4 Versicolor\n",
       "52           6.4         3.2          4.5         1.5 Versicolor\n",
       "53           6.9         3.1          4.9         1.5 Versicolor\n",
       "54           5.5         2.3          4.0         1.3 Versicolor\n",
       "55           6.5         2.8          4.6         1.5 Versicolor\n",
       "56           5.7         2.8          4.5         1.3 Versicolor\n",
       "57           6.3         3.3          4.7         1.6 Versicolor\n",
       "58           4.9         2.4          3.3         1.0 Versicolor\n",
       "59           6.6         2.9          4.6         1.3 Versicolor\n",
       "60           5.2         2.7          3.9         1.4 Versicolor\n",
       "61           5.0         2.0          3.5         1.0 Versicolor\n",
       "62           5.9         3.0          4.2         1.5 Versicolor\n",
       "63           6.0         2.2          4.0         1.0 Versicolor\n",
       "64           6.1         2.9          4.7         1.4 Versicolor\n",
       "65           5.6         2.9          3.6         1.3 Versicolor\n",
       "66           6.7         3.1          4.4         1.4 Versicolor\n",
       "67           5.6         3.0          4.5         1.5 Versicolor\n",
       "68           5.8         2.7          4.1         1.0 Versicolor\n",
       "69           6.2         2.2          4.5         1.5 Versicolor\n",
       "70           5.6         2.5          3.9         1.1 Versicolor\n",
       "71           5.9         3.2          4.8         1.8 Versicolor\n",
       "72           6.1         2.8          4.0         1.3 Versicolor\n",
       "73           6.3         2.5          4.9         1.5 Versicolor\n",
       "74           6.1         2.8          4.7         1.2 Versicolor\n",
       "75           6.4         2.9          4.3         1.3 Versicolor\n",
       "76           6.6         3.0          4.4         1.4 Versicolor\n",
       "77           6.8         2.8          4.8         1.4 Versicolor\n",
       "78           6.7         3.0          5.0         1.7 Versicolor\n",
       "79           6.0         2.9          4.5         1.5 Versicolor\n",
       "80           5.7         2.6          3.5         1.0 Versicolor\n",
       "81           5.5         2.4          3.8         1.1 Versicolor\n",
       "82           5.5         2.4          3.7         1.0 Versicolor\n",
       "83           5.8         2.7          3.9         1.2 Versicolor\n",
       "84           6.0         2.7          5.1         1.6 Versicolor\n",
       "85           5.4         3.0          4.5         1.5 Versicolor\n",
       "86           6.0         3.4          4.5         1.6 Versicolor\n",
       "87           6.7         3.1          4.7         1.5 Versicolor\n",
       "88           6.3         2.3          4.4         1.3 Versicolor\n",
       "89           5.6         3.0          4.1         1.3 Versicolor\n",
       "90           5.5         2.5          4.0         1.3 Versicolor\n",
       "91           5.5         2.6          4.4         1.2 Versicolor\n",
       "92           6.1         3.0          4.6         1.4 Versicolor\n",
       "93           5.8         2.6          4.0         1.2 Versicolor\n",
       "94           5.0         2.3          3.3         1.0 Versicolor\n",
       "95           5.6         2.7          4.2         1.3 Versicolor\n",
       "96           5.7         3.0          4.2         1.2 Versicolor\n",
       "97           5.7         2.9          4.2         1.3 Versicolor\n",
       "98           6.2         2.9          4.3         1.3 Versicolor\n",
       "99           5.1         2.5          3.0         1.1 Versicolor\n",
       "100          5.7         2.8          4.1         1.3 Versicolor\n",
       "101          6.3         3.3          6.0         2.5  Virginica\n",
       "102          5.8         2.7          5.1         1.9  Virginica\n",
       "103          7.1         3.0          5.9         2.1  Virginica\n",
       "104          6.3         2.9          5.6         1.8  Virginica\n",
       "105          6.5         3.0          5.8         2.2  Virginica\n",
       "106          7.6         3.0          6.6         2.1  Virginica\n",
       "107          4.9         2.5          4.5         1.7  Virginica\n",
       "108          7.3         2.9          6.3         1.8  Virginica\n",
       "109          6.7         2.5          5.8         1.8  Virginica\n",
       "110          7.2         3.6          6.1         2.5  Virginica\n",
       "111          6.5         3.2          5.1         2.0  Virginica\n",
       "112          6.4         2.7          5.3         1.9  Virginica\n",
       "113          6.8         3.0          5.5         2.1  Virginica\n",
       "114          5.7         2.5          5.0         2.0  Virginica\n",
       "115          5.8         2.8          5.1         2.4  Virginica\n",
       "116          6.4         3.2          5.3         2.3  Virginica\n",
       "117          6.5         3.0          5.5         1.8  Virginica\n",
       "118          7.7         3.8          6.7         2.2  Virginica\n",
       "119          7.7         2.6          6.9         2.3  Virginica\n",
       "120          6.0         2.2          5.0         1.5  Virginica\n",
       "121          6.9         3.2          5.7         2.3  Virginica\n",
       "122          5.6         2.8          4.9         2.0  Virginica\n",
       "123          7.7         2.8          6.7         2.0  Virginica\n",
       "124          6.3         2.7          4.9         1.8  Virginica\n",
       "125          6.7         3.3          5.7         2.1  Virginica\n",
       "126          7.2         3.2          6.0         1.8  Virginica\n",
       "127          6.2         2.8          4.8         1.8  Virginica\n",
       "128          6.1         3.0          4.9         1.8  Virginica\n",
       "129          6.4         2.8          5.6         2.1  Virginica\n",
       "130          7.2         3.0          5.8         1.6  Virginica\n",
       "131          7.4         2.8          6.1         1.9  Virginica\n",
       "132          7.9         3.8          6.4         2.0  Virginica\n",
       "133          6.4         2.8          5.6         2.2  Virginica\n",
       "134          6.3         2.8          5.1         1.5  Virginica\n",
       "135          6.1         2.6          5.6         1.4  Virginica\n",
       "136          7.7         3.0          6.1         2.3  Virginica\n",
       "137          6.3         3.4          5.6         2.4  Virginica\n",
       "138          6.4         3.1          5.5         1.8  Virginica\n",
       "139          6.0         3.0          4.8         1.8  Virginica\n",
       "140          6.9         3.1          5.4         2.1  Virginica\n",
       "141          6.7         3.1          5.6         2.4  Virginica\n",
       "142          6.9         3.1          5.1         2.3  Virginica\n",
       "143          5.8         2.7          5.1         1.9  Virginica\n",
       "144          6.8         3.2          5.9         2.3  Virginica\n",
       "145          6.7         3.3          5.7         2.5  Virginica\n",
       "146          6.7         3.0          5.2         2.3  Virginica\n",
       "147          6.3         2.5          5.0         1.9  Virginica\n",
       "148          6.5         3.0          5.2         2.0  Virginica\n",
       "149          6.2         3.4          5.4         2.3  Virginica\n",
       "150          5.9         3.0          5.1         1.8  Virginica\n",
       "\n"
      ]
     },
     "metadata": {},
     "output_type": "display_data"
    }
   ],
   "source": [
    "%%R\n",
    "# R - Creating a list\n",
    "my_Rlist <- list(t_vector, r_matrix, df_R)\n",
    "my_Rlist"
   ]
  },
  {
   "cell_type": "code",
   "execution_count": 71,
   "metadata": {},
   "outputs": [
    {
     "data": {
      "text/plain": [
       "[1] 1 9 8 4\n"
      ]
     },
     "metadata": {},
     "output_type": "display_data"
    }
   ],
   "source": [
    "%%R\n",
    "# R - Creating a list with names (Similar to a Python Dictionary)\n",
    "my_Rlist <- list(vec = t_vector, mat = r_matrix, df = df_R)\n",
    "my_Rlist$vec # my_Rlist[[\"vec\"]]"
   ]
  },
  {
   "cell_type": "code",
   "execution_count": 74,
   "metadata": {},
   "outputs": [
    {
     "data": {
      "text/plain": [
       "1"
      ]
     },
     "execution_count": 74,
     "metadata": {},
     "output_type": "execute_result"
    }
   ],
   "source": [
    "# Python - Selecting from a list\n",
    "my_Plist[0][0]"
   ]
  },
  {
   "cell_type": "code",
   "execution_count": 72,
   "metadata": {},
   "outputs": [
    {
     "data": {
      "text/plain": [
       "[1] 1\n"
      ]
     },
     "metadata": {},
     "output_type": "display_data"
    }
   ],
   "source": [
    "%%R\n",
    "# R - Selecting from a list\n",
    "my_Rlist$vec[1] # my_Rlist[[\"vec\"]][1]"
   ]
  }
 ],
 "metadata": {
  "kernelspec": {
   "display_name": "Python 3",
   "language": "python",
   "name": "python3"
  },
  "language_info": {
   "codemirror_mode": {
    "name": "ipython",
    "version": 3
   },
   "file_extension": ".py",
   "mimetype": "text/x-python",
   "name": "python",
   "nbconvert_exporter": "python",
   "pygments_lexer": "ipython3",
   "version": "3.6.8"
  }
 },
 "nbformat": 4,
 "nbformat_minor": 2
}
